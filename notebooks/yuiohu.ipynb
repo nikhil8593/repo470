{
 "cells": [
  {
   "cell_type": "markdown",
   "metadata": {
    "autoscroll": false,
    "collapsed": false
   },
   "source": [
    " "
   ]
  },
  {
   "cell_type": "code",
   "execution_count": null,
   "metadata": {
    "autoscroll": false,
    "collapsed": false
   },
   "outputs": [],
   "source": [
    "from streamanalytix.python.dataset import Dataset\n",
    "from streamanalytix.utilities import sax_utils\n\n",
    "\n",
    "dataset_1 = Dataset(\"data1\")",
    "\n\n",
    "# you can use pandas to create dataframe as shown below\n",
    "# df = dataset_1.get_dataframe()"
   ]
  }
 ],
 "metadata": {
  "autoplay": {
   "autoRun": true
  },
  "kernelspec": {
   "display_name": "Python 2",
   "language": "python",
   "name": "python2"
  },
  "language_info": {
   "codemirror_mode": {
    "name": "ipython",
    "version": ""
   },
   "file_extension": ".py",
   "mimetype": "text/x-python",
   "name": "python",
   "nbconvert_exporter": "python",
   "pygments_lexer": "",
   "version": "shell-init: error retrieving current directory: getcwd: cannot access parent directories: no such file or directory\n 2.7.5"
  }
 },
 "nbformat": 4,
 "nbformat_minor": 4
}
